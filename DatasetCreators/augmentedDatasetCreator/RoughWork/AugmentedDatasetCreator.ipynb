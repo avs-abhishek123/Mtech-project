{
 "cells": [
  {
   "cell_type": "code",
   "execution_count": 1,
   "metadata": {},
   "outputs": [
    {
     "ename": "ModuleNotFoundError",
     "evalue": "No module named 'AugmentationLibrary'",
     "output_type": "error",
     "traceback": [
      "\u001b[0;31m---------------------------------------------------------------------------\u001b[0m",
      "\u001b[0;31mModuleNotFoundError\u001b[0m                       Traceback (most recent call last)",
      "\u001b[0;32m/tmp/ipykernel_465886/3327299912.py\u001b[0m in \u001b[0;36m<module>\u001b[0;34m\u001b[0m\n\u001b[0;32m----> 1\u001b[0;31m \u001b[0;32mimport\u001b[0m \u001b[0mAugmentationLibrary\u001b[0m\u001b[0;34m.\u001b[0m\u001b[0mstaticTransforms\u001b[0m\u001b[0;34m\u001b[0m\u001b[0;34m\u001b[0m\u001b[0m\n\u001b[0m",
      "\u001b[0;31mModuleNotFoundError\u001b[0m: No module named 'AugmentationLibrary'"
     ]
    }
   ],
   "source": [
    "from AugmentationL"
   ]
  },
  {
   "cell_type": "code",
   "execution_count": 3,
   "metadata": {},
   "outputs": [
    {
     "name": "stdout",
     "output_type": "stream",
     "text": [
      "['\"Blur\"', '\"CLAHE\"', '\"ChannelDropout\"', '\"ChannelShuffle\"', '\"ColorJitter\"', '\"Downscale\"', '\"Emboss\"', '\"FancyPCA\"', '\"FromFloat\"', '\"GaussNoise\"', '\"GaussianBlur\"', '\"GlassBlur\"', '\"HueSaturationValue\"', '\"ISONoise\"', '\"InvertImg\"', '\"MedianBlur\"', '\"MotionBlur\"', '\"MultiplicativeNoise\"', '\"Normalize\"', '\"Posterize\"', '\"RGBShift\"', '\"Sharpen\"', '\"Solarize\"', '\"Superpixels\"', '\"ToFloat\"', '\"ToGray\"', '\"ToSepia\"', '\"VerticalFlip\"', '\"HorizontalFlip\"', '\"Flip \"', '\"Transpose\"', '\"OpticalDistortion\"', '\"GridDistortion\"', '\"JpegCompression\"', '\"Cutout\"', '\"CoarseDropout\"', '\"MaskDropout\"', '\"GridDropout\"', '', '']\n"
     ]
    }
   ],
   "source": [
    "lst_train=[]\n",
    "text_file_path=\"/mc2/SaiAbhishek/Sprint62/STUDCL-9999-Evaluate improve-Model-performance/AugmentationLibrary/AugmentedDatasetCreator/SupportedAugmentation.txt\"\n",
    "with open(text_file_path) as f:\n",
    "    lines = f.readlines()\n",
    "    for line in lines:\n",
    "        ele=line.strip('\\n')\n",
    "        lst_train.append(ele)\n",
    "    print(lst_train)"
   ]
  },
  {
   "cell_type": "code",
   "execution_count": 1,
   "metadata": {},
   "outputs": [
    {
     "ename": "ModuleNotFoundError",
     "evalue": "No module named 'AugmentationLibrary'",
     "output_type": "error",
     "traceback": [
      "\u001b[0;31m---------------------------------------------------------------------------\u001b[0m",
      "\u001b[0;31mModuleNotFoundError\u001b[0m                       Traceback (most recent call last)",
      "\u001b[0;32m/tmp/ipykernel_3481097/3595629395.py\u001b[0m in \u001b[0;36m<module>\u001b[0;34m\u001b[0m\n\u001b[1;32m     29\u001b[0m \u001b[0;34m\u001b[0m\u001b[0m\n\u001b[1;32m     30\u001b[0m \u001b[0;34m\u001b[0m\u001b[0m\n\u001b[0;32m---> 31\u001b[0;31m \u001b[0;32mfrom\u001b[0m \u001b[0mAugmentationLibrary\u001b[0m\u001b[0;34m.\u001b[0m\u001b[0mStaticTransforms\u001b[0m\u001b[0;34m.\u001b[0m\u001b[0mstaticTransforms\u001b[0m \u001b[0;32mimport\u001b[0m \u001b[0;34m*\u001b[0m\u001b[0;34m\u001b[0m\u001b[0;34m\u001b[0m\u001b[0m\n\u001b[0m\u001b[1;32m     32\u001b[0m \u001b[0;32mfrom\u001b[0m \u001b[0mAugmentationLibrary\u001b[0m\u001b[0;34m.\u001b[0m\u001b[0mStaticTransforms\u001b[0m\u001b[0;34m.\u001b[0m\u001b[0mstaticTransforms\u001b[0m \u001b[0;32mimport\u001b[0m \u001b[0mStaticTransformDataGenerator\u001b[0m \u001b[0;32mas\u001b[0m \u001b[0mAugStatic\u001b[0m\u001b[0;34m\u001b[0m\u001b[0;34m\u001b[0m\u001b[0m\n\u001b[1;32m     33\u001b[0m \u001b[0;34m\u001b[0m\u001b[0m\n",
      "\u001b[0;31mModuleNotFoundError\u001b[0m: No module named 'AugmentationLibrary'"
     ]
    }
   ],
   "source": [
    "import os\n",
    "import pprint as pp\n",
    "import numpy as np\n",
    "import cv2\n",
    "import IPython\n",
    "import os\n",
    "import json\n",
    "import random\n",
    "import PIL\n",
    "import urllib\n",
    "from PIL import Image\n",
    "from torchvision import transforms\n",
    "from PIL import Image as PILImage\n",
    "from PIL import ImageDraw as PILImageDraw\n",
    "import tensorflow as tf\n",
    "from typing import List, Optional, Sequence, Tuple, Union\n",
    "import requests\n",
    "from io import BytesIO\n",
    "import math\n",
    "from typing import Any, Callable,Dict, List, Optional, Sequence, Tuple, Union\n",
    "import glob\n",
    "import matplotlib.pyplot as plt\n",
    "import shutil \n",
    "import os \n",
    "import base64\n",
    "import torch\n",
    "import albumentations as A\n",
    "from functools import wraps\n",
    "\n",
    "\n",
    "from AugmentationLibrary.StaticTransforms.staticTransforms import *\n",
    "from AugmentationLibrary.StaticTransforms.staticTransforms import StaticTransformDataGenerator as AugStatic\n",
    "\n",
    "\n",
    "class AugDataCreator():\n",
    "    def __init__(self,MinorityImage_Dir,finalMinorityImageDir,AugType):\n",
    "\n",
    "        self.MinorityImage_Dir=MinorityImage_Dir\n",
    "        self.finalMinorityImageDir=finalMinorityImageDir\n",
    "        self.AugType=AugType\n",
    "\n",
    "        # just make a dataset for the input string given to us for the static augmentation applied on our dataset\n",
    "        self.OriginalMinorityClassfileStore()\n",
    "        self.TransformList()\n",
    "    \n",
    "    def TransformList(self):\n",
    "        self.allsupportedTransformList=[]\n",
    "        lst_train=[]\n",
    "        text_file_path=\"/mc2/SaiAbhishek/Sprint62/STUDCL-9999-Evaluate improve-Model-performance/AugmentationLibrary/AugmentedDatasetCreator/SupportedAugmentation.txt\"\n",
    "        with open(text_file_path) as f:\n",
    "            lines = f.readlines()\n",
    "            for line in lines:\n",
    "                ele=line.strip('\\n')\n",
    "                lst_train.append(ele)\n",
    "        self.allsupportedTransformList=lst_train\n",
    "                   \n",
    "\n",
    "    def OriginalMinorityClassfileStore(self):\n",
    "\n",
    "        for (root, dirs, files) in os.walk(self.MinorityImage_Dir):\n",
    "            for filename in files:    \n",
    "                #print(filename)\n",
    "                source=self.MinorityImage_Dir+\"/\"+filename\n",
    "                destination=self.finalMinorityImageDir+\"/\"\n",
    "                #final_storing_path4originalImage =self.finalMinorityImageDir+\"/\"+filename\n",
    "#\n",
    "                #OriginalImage2beCopied=Image.fromarray(img)\n",
    "                #OriginalImage2beCopied.save(final_storing_path4originalImage)\n",
    "                shutil.copy(source, destination)\n",
    "            \n",
    "            self.originalCopiedMinoityImageList=files\n",
    "\n",
    "            print(\"File copied successfully.\")\n",
    "\n",
    "    def augmentassigner(self,img2):    \n",
    "        \n",
    "        for augmentationtype in self.allsupportedTransformList:\n",
    "            if self.AugType==augmentationtype:\n",
    "                print(\"The new augmented dataset has this augmentation :\",augmentationtype)   \n",
    "                \n",
    "                augm=eval(augmentationtype+\"(self, img2)\")\n",
    "                aug_img=AugStatic.augm\n",
    "        return aug_img"
   ]
  },
  {
   "cell_type": "code",
   "execution_count": 4,
   "metadata": {},
   "outputs": [],
   "source": [
    "import os\n",
    "import pprint as pp\n",
    "import numpy as np\n",
    "import cv2\n",
    "import IPython\n",
    "import os\n",
    "import json\n",
    "import random\n",
    "import PIL\n",
    "import urllib\n",
    "from PIL import Image\n",
    "from torchvision import transforms\n",
    "from PIL import Image as PILImage\n",
    "from PIL import ImageDraw as PILImageDraw\n",
    "import tensorflow as tf\n",
    "from typing import List, Optional, Sequence, Tuple, Union\n",
    "import requests\n",
    "from io import BytesIO\n",
    "import math\n",
    "from typing import Any, Callable,Dict, List, Optional, Sequence, Tuple, Union\n",
    "import glob\n",
    "import matplotlib.pyplot as plt\n",
    "import shutil \n",
    "import os \n",
    "import base64\n",
    "import torch\n",
    "import albumentations as A\n",
    "from functools import wraps"
   ]
  },
  {
   "cell_type": "code",
   "execution_count": 6,
   "metadata": {},
   "outputs": [
    {
     "name": "stdout",
     "output_type": "stream",
     "text": [
      "newMinorityDirectoryname seaCLAHE\n",
      "newAugmentedMinorityClasspath /mc2/SaiAbhishek/Sprint62/STUDCL-9999-Evaluate improve-Model-performance/Augmented125Dataset/seaCLAHE\n"
     ]
    }
   ],
   "source": [
    "#It is read from original unbalanced dataset\n",
    "MajorityImage_Dir=\"/mc2/SaiAbhishek/Sprint62/STUDCL-9999-Evaluate improve-Model-performance/Unbalanced125DecreasedB/train/buildings\"\n",
    "MinorityImage_Dir=\"/mc2/SaiAbhishek/Sprint62/STUDCL-9999-Evaluate improve-Model-performance/Unbalanced125DecreasedB/train/sea\"\n",
    "finalMinorityImageDir=\"/mc2/SaiAbhishek/Sprint62/STUDCL-9999-Evaluate improve-Model-performance/Augmented125Dataset/\"\n",
    "\n",
    "classname=\"sea\"\n",
    "AugType=input(\"Give the type of augmentation you want for all the images of the minority class : \")\n",
    "\n",
    "newMinorityDirectoryname=classname+AugType\n",
    "print(\"newMinorityDirectoryname\",newMinorityDirectoryname)\n",
    "x = os.path.join(finalMinorityImageDir, newMinorityDirectoryname)\n",
    "#print(x)\n",
    "newAugmentedMinorityClasspath=x\n",
    "print(\"newAugmentedMinorityClasspath\",newAugmentedMinorityClasspath)"
   ]
  },
  {
   "cell_type": "code",
   "execution_count": 9,
   "metadata": {},
   "outputs": [
    {
     "name": "stdout",
     "output_type": "stream",
     "text": [
      "source /mc2/SaiAbhishek/Sprint62/STUDCL-9999-Evaluate improve-Model-performance/Unbalanced125DecreasedB/train/buildings/0.jpg\n",
      "destination /mc2/SaiAbhishek/Sprint62/STUDCL-9999-Evaluate improve-Model-performance/Augmented125Dataset//buildings/\n"
     ]
    }
   ],
   "source": [
    "for (root, dirs, files) in os.walk(MajorityImage_Dir):\n",
    "            for filename in files:    \n",
    "                #print(filename)\n",
    "                source=MajorityImage_Dir+\"/\"+filename\n",
    "                dst=finalMinorityImageDir\n",
    "                destination=dst+\"/\"+\"buildings/\"\n",
    "                print(\"source\",source)\n",
    "                print(\"destination\",destination)\n",
    "                break"
   ]
  },
  {
   "cell_type": "code",
   "execution_count": null,
   "metadata": {},
   "outputs": [],
   "source": []
  },
  {
   "cell_type": "code",
   "execution_count": 20,
   "metadata": {},
   "outputs": [
    {
     "name": "stdout",
     "output_type": "stream",
     "text": [
      "newMinorityDirectoryname seaCLAHE\n",
      "/mc2/SaiAbhishek/Sprint62/STUDCL-9999-Evaluate improve-Model-performance/AugmentedDataset/seadir/seaCLAHE\n",
      "newAugmentedMinorityClasspath /mc2/SaiAbhishek/Sprint62/STUDCL-9999-Evaluate improve-Model-performance/AugmentedDataset/seadir/seaCLAHE/train/sea\n"
     ]
    }
   ],
   "source": [
    "MajorityImage_Dir=\"/mc2/SaiAbhishek/Sprint62/STUDCL-9999-Evaluate improve-Model-performance/unbalancedDataset/train/buildings\"\n",
    "MinorityImage_Dir=\"/mc2/SaiAbhishek/Sprint62/STUDCL-9999-Evaluate improve-Model-performance/unbalancedDataset/train/sea\"\n",
    "finalMinorityImageDir=\"/mc2/SaiAbhishek/Sprint62/STUDCL-9999-Evaluate improve-Model-performance/AugmentedDataset/seadir/\"\n",
    "\n",
    "classname=\"sea\"\n",
    "#AugType=input(\"Give the type of augmentation you want for all the images of the minority class : \")\n",
    "\n",
    "newMinorityDirectoryname=classname+AugType\n",
    "print(\"newMinorityDirectoryname\",newMinorityDirectoryname)\n",
    "x = os.path.join(finalMinorityImageDir, newMinorityDirectoryname)\n",
    "print(x)\n",
    "newAugmentedMinorityClasspath=x+\"/train/sea\"\n",
    "print(\"newAugmentedMinorityClasspath\",newAugmentedMinorityClasspath)\n"
   ]
  },
  {
   "cell_type": "code",
   "execution_count": 6,
   "metadata": {},
   "outputs": [
    {
     "ename": "NameError",
     "evalue": "name 'root' is not defined",
     "output_type": "error",
     "traceback": [
      "\u001b[0;31m---------------------------------------------------------------------------\u001b[0m",
      "\u001b[0;31mNameError\u001b[0m                                 Traceback (most recent call last)",
      "\u001b[0;32m/tmp/ipykernel_3428107/3211687113.py\u001b[0m in \u001b[0;36m<module>\u001b[0;34m\u001b[0m\n\u001b[1;32m      1\u001b[0m \u001b[0msource\u001b[0m\u001b[0;34m=\u001b[0m\u001b[0;34m\"buildings\"\u001b[0m\u001b[0;34m+\u001b[0m\u001b[0;34m\"/\"\u001b[0m\u001b[0;34m+\u001b[0m\u001b[0;34m\"1.jpg\"\u001b[0m\u001b[0;34m\u001b[0m\u001b[0;34m\u001b[0m\u001b[0m\n\u001b[1;32m      2\u001b[0m \u001b[0mdst\u001b[0m\u001b[0;34m=\u001b[0m\u001b[0mfinalMinorityImageDir\u001b[0m\u001b[0;34m[\u001b[0m\u001b[0;34m:\u001b[0m\u001b[0;34m-\u001b[0m\u001b[0;36m3\u001b[0m\u001b[0;34m]\u001b[0m\u001b[0;34m\u001b[0m\u001b[0;34m\u001b[0m\u001b[0m\n\u001b[0;32m----> 3\u001b[0;31m \u001b[0mdestination\u001b[0m\u001b[0;34m=\u001b[0m\u001b[0mdst\u001b[0m\u001b[0;34m+\u001b[0m\u001b[0mroot\u001b[0m\u001b[0;34m[\u001b[0m\u001b[0;34m-\u001b[0m\u001b[0;36m9\u001b[0m\u001b[0;34m:\u001b[0m\u001b[0;34m]\u001b[0m\u001b[0;34m\u001b[0m\u001b[0;34m\u001b[0m\u001b[0m\n\u001b[0m",
      "\u001b[0;31mNameError\u001b[0m: name 'root' is not defined"
     ]
    }
   ],
   "source": [
    "source=\"buildings\"+\"/\"+\"1.jpg\"\n",
    "dst=finalMinorityImageDir[:-3]\n",
    "destination=dst+root[-9:]"
   ]
  },
  {
   "cell_type": "code",
   "execution_count": 30,
   "metadata": {},
   "outputs": [
    {
     "name": "stdout",
     "output_type": "stream",
     "text": [
      "newMinorityDirectoryname seaCLAHE\n"
     ]
    }
   ],
   "source": [
    "MajorityImage_Dir=\"/mc2/SaiAbhishek/Sprint62/STUDCL-9999-Evaluate improve-Model-performance/unbalancedDataset/train/buildings\"\n",
    "MinorityImage_Dir=\"/mc2/SaiAbhishek/Sprint62/STUDCL-9999-Evaluate improve-Model-performance/unbalancedDataset/train/sea\"\n",
    "finalMinorityImageDir=\"/mc2/SaiAbhishek/Sprint62/STUDCL-9999-Evaluate improve-Model-performance/AugmentedDataset/seadir/\"\n",
    "\n",
    "classname=\"sea\"\n",
    "AugType=input(\"Give the type of augmentation you want for all the images of the minority class : \")\n",
    "\n",
    "newMinorityDirectoryname=classname+AugType\n",
    "print(\"newMinorityDirectoryname\",newMinorityDirectoryname)\n",
    "x = os.path.join(finalMinorityImageDir, newMinorityDirectoryname)\n",
    "#print(x)\n",
    "newAugmentedMinorityClasspath=x+\"/train/sea\"\n",
    "\n"
   ]
  },
  {
   "cell_type": "code",
   "execution_count": 31,
   "metadata": {},
   "outputs": [
    {
     "name": "stdout",
     "output_type": "stream",
     "text": [
      "/mc2/SaiAbhishek/Sprint62/STUDCL-9999-Evaluate improve-Model-performance/AugmentedDataset/seadir/seaCLAHE/train/sea\n"
     ]
    }
   ],
   "source": [
    "print(newAugmentedMinorityClasspath)"
   ]
  },
  {
   "cell_type": "code",
   "execution_count": 32,
   "metadata": {},
   "outputs": [
    {
     "name": "stdout",
     "output_type": "stream",
     "text": [
      "/mc2/SaiAbhishek/Sprint62/STUDCL-9999-Evaluate improve-Model-performance/unbalancedDataset/train/buildings\n",
      "dkcbskhb\n",
      "/mc2/SaiAbhishek/Sprint62/STUDCL-9999-Evaluate improve-Model-performance/unbalancedDataset/train/buildings/0.jpg\n",
      "dst /mc2/SaiAbhishek/Sprint62/STUDCL-9999-Evaluate improve-Model-performance/AugmentedDataset/seadir/\n",
      "buildings\n",
      "finalMinorityImageDir===== /mc2/SaiAbhishek/Sprint62/STUDCL-9999-Evaluate improve-Model-performance/AugmentedDataset/seadir/buildings\n",
      "/mc2/SaiAbhishek/Sprint62/STUDCL-9999-Evaluate improve-Model-performance/AugmentedDataset/seadir/\n"
     ]
    }
   ],
   "source": [
    "for (root, dirs, files) in os.walk(MajorityImage_Dir):\n",
    "    print(root)\n",
    "    print(\"dkcbskhb\")\n",
    "    for filename in files:    \n",
    "        print(MajorityImage_Dir+\"/\"+filename)\n",
    "        dst=finalMinorityImageDir\n",
    "        print(\"dst\",dst)\n",
    "        print(root[-9:])\n",
    "        print(\"finalMinorityImageDir=====\",dst+\"buildings\")\n",
    "        print(finalMinorityImageDir)\n",
    "        break\n",
    "    break"
   ]
  },
  {
   "cell_type": "code",
   "execution_count": null,
   "metadata": {},
   "outputs": [],
   "source": []
  },
  {
   "cell_type": "code",
   "execution_count": 5,
   "metadata": {},
   "outputs": [
    {
     "data": {
      "text/plain": [
       "'/mc2/SaiAbhishek/Sprint62/STUDCL-9999-Evaluate improve-Model-performance/AugmentedDataset/seaBlur/train/sea'"
      ]
     },
     "execution_count": 5,
     "metadata": {},
     "output_type": "execute_result"
    }
   ],
   "source": [
    "newAugmentedMinorityClasspath"
   ]
  },
  {
   "cell_type": "code",
   "execution_count": 4,
   "metadata": {},
   "outputs": [
    {
     "ename": "NameError",
     "evalue": "name 'root' is not defined",
     "output_type": "error",
     "traceback": [
      "\u001b[0;31m---------------------------------------------------------------------------\u001b[0m",
      "\u001b[0;31mNameError\u001b[0m                                 Traceback (most recent call last)",
      "\u001b[0;32m/tmp/ipykernel_3428107/921446751.py\u001b[0m in \u001b[0;36m<module>\u001b[0;34m\u001b[0m\n\u001b[1;32m      1\u001b[0m \u001b[0ma\u001b[0m\u001b[0;34m=\u001b[0m\u001b[0mnewAugmentedMinorityClasspath\u001b[0m\u001b[0;34m[\u001b[0m\u001b[0;34m:\u001b[0m\u001b[0;34m-\u001b[0m\u001b[0;36m3\u001b[0m\u001b[0;34m]\u001b[0m\u001b[0;34m\u001b[0m\u001b[0;34m\u001b[0m\u001b[0m\n\u001b[0;32m----> 2\u001b[0;31m \u001b[0mb\u001b[0m\u001b[0;34m=\u001b[0m\u001b[0mroot\u001b[0m\u001b[0;34m[\u001b[0m\u001b[0;34m-\u001b[0m\u001b[0;36m9\u001b[0m\u001b[0;34m:\u001b[0m\u001b[0;34m]\u001b[0m\u001b[0;34m\u001b[0m\u001b[0;34m\u001b[0m\u001b[0m\n\u001b[0m\u001b[1;32m      3\u001b[0m \u001b[0ma\u001b[0m\u001b[0;34m+\u001b[0m\u001b[0mb\u001b[0m\u001b[0;34m\u001b[0m\u001b[0;34m\u001b[0m\u001b[0m\n",
      "\u001b[0;31mNameError\u001b[0m: name 'root' is not defined"
     ]
    }
   ],
   "source": [
    "a=newAugmentedMinorityClasspath[:-3]\n",
    "b=root[-9:]\n",
    "a+b"
   ]
  },
  {
   "cell_type": "code",
   "execution_count": null,
   "metadata": {},
   "outputs": [],
   "source": []
  },
  {
   "cell_type": "code",
   "execution_count": 17,
   "metadata": {},
   "outputs": [
    {
     "name": "stdout",
     "output_type": "stream",
     "text": [
      "/mc2/SaiAbhishek/Sprint62/STUDCL-9999-Evaluate improve-Model-performance/AugmentedDataset\n",
      "/mc2/SaiAbhishek/Sprint62/STUDCL-9999-Evaluate improve-Model-performance/AugmentedDatasetbuildings\n"
     ]
    }
   ],
   "source": [
    "for (root, dirs, files) in os.walk(MajorityImage_Dir):\n",
    "    for filename in files:    \n",
    "        #print(filename)\n",
    "        source=root+\"/\"+filename\n",
    "        dst=finalMinorityImageDir\n",
    "        print(dst)\n",
    "        destination=dst+root[-9:]\n",
    "        #print(source)\n",
    "        print(destination)\n",
    "        break"
   ]
  },
  {
   "cell_type": "code",
   "execution_count": 19,
   "metadata": {},
   "outputs": [
    {
     "name": "stdout",
     "output_type": "stream",
     "text": [
      "/mc2/SaiAbhishek/Sprint62/STUDCL-9999-Evaluate improve-Model-performance/AugmentedDataset/\n"
     ]
    }
   ],
   "source": [
    "for (root, dirs, files) in os.walk(MinorityImage_Dir):\n",
    "    for filename in files:    \n",
    "        #print(filename)\n",
    "        source=MinorityImage_Dir+\"/\"+filename\n",
    "        destination=finalMinorityImageDir+\"/\"\n",
    "        print(destination)\n",
    "        break"
   ]
  },
  {
   "cell_type": "code",
   "execution_count": 9,
   "metadata": {},
   "outputs": [
    {
     "name": "stdout",
     "output_type": "stream",
     "text": [
      "/mc2/SaiAbhishek/Sprint62/STUDCL-9999-Evaluate improve-Model-performance/unbalancedDataset/train/buildings\n",
      "['0.jpg', '10006.jpg', '1001.jpg', '10014.jpg', '10018.jpg', '10029.jpg', '10032.jpg', '10056.jpg', '1009.jpg', '10113.jpg', '1012.jpg', '10126.jpg', '10151.jpg', '10161.jpg', '10165.jpg', '10176.jpg', '10184.jpg', '10185.jpg', '10191.jpg', '10196.jpg', '10198.jpg', '10205.jpg', '10210.jpg', '10228.jpg', '10231.jpg', '10252.jpg', '10257.jpg', '10266.jpg', '10278.jpg', '1028.jpg', '10295.jpg', '10303.jpg', '10306.jpg', '10310.jpg', '10312.jpg', '10316.jpg', '10328.jpg', '10350.jpg', '10357.jpg', '10367.jpg', '10374.jpg', '10383.jpg', '10402.jpg', '1041.jpg', '10421.jpg', '10444.jpg', '1045.jpg', '10452.jpg', '10466.jpg', '10480.jpg', '10485.jpg', '10489.jpg', '10495.jpg', '10499.jpg', '10500.jpg', '10502.jpg', '10511.jpg', '10520.jpg', '10528.jpg', '1055.jpg', '10553.jpg', '10559.jpg', '10570.jpg', '10576.jpg', '1058.jpg', '10582.jpg', '10598.jpg', '10608.jpg', '10620.jpg', '10626.jpg', '10630.jpg', '1064.jpg', '10641.jpg', '10646.jpg', '10653.jpg', '10656.jpg', '10672.jpg', '10695.jpg', '10699.jpg', '10717.jpg', '10720.jpg', '10730.jpg', '10744.jpg', '10754.jpg', '10790.jpg', '10792.jpg', '10798.jpg', '10805.jpg', '10809.jpg', '10812.jpg', '10828.jpg', '10831.jpg', '10832.jpg', '10842.jpg', '10849.jpg', '10865.jpg', '10872.jpg', '10878.jpg', '10886.jpg', '10892.jpg', '10899.jpg', '1090.jpg', '10911.jpg', '10921.jpg', '10924.jpg', '1093.jpg', '10936.jpg', '10963.jpg', '10978.jpg', '10997.jpg', '11003.jpg', '11011.jpg', '11024.jpg', '11037.jpg', '1104.jpg', '11042.jpg', '11045.jpg', '11054.jpg', '11055.jpg', '1107.jpg', '11077.jpg', '11084.jpg', '11098.jpg', '11108.jpg', '11117.jpg', '1112.jpg', '11131.jpg', '11157.jpg', '11173.jpg', '11181.jpg', '11187.jpg', '11197.jpg', '112.jpg', '11203.jpg', '11226.jpg', '11235.jpg', '11244.jpg', '11249.jpg', '11259.jpg', '11274.jpg', '11278.jpg', '11290.jpg', '11302.jpg', '11305.jpg', '11306.jpg', '11307.jpg', '11309.jpg', '11315.jpg', '11316.jpg', '11334.jpg', '11338.jpg', '11345.jpg', '11349.jpg', '11363.jpg', '11366.jpg', '11371.jpg', '11374.jpg', '11378.jpg', '11410.jpg', '11418.jpg', '11425.jpg', '11428.jpg', '11471.jpg', '11477.jpg', '11483.jpg', '11494.jpg', '11499.jpg', '11502.jpg', '11523.jpg', '11530.jpg', '11560.jpg', '11568.jpg', '11569.jpg', '11570.jpg', '11594.jpg', '11595.jpg', '11599.jpg', '11601.jpg', '11605.jpg', '1161.jpg', '11613.jpg', '11620.jpg', '11621.jpg', '11627.jpg', '11628.jpg', '11635.jpg', '11642.jpg', '11658.jpg', '11670.jpg', '11696.jpg', '11700.jpg', '11718.jpg', '11731.jpg', '11753.jpg', '11780.jpg', '11788.jpg', '11795.jpg', '11796.jpg', '11808.jpg', '11813.jpg', '11827.jpg', '11845.jpg', '11855.jpg', '11883.jpg', '11899.jpg', '11910.jpg', '11924.jpg', '11929.jpg', '1193.jpg', '11937.jpg', '11941.jpg', '11945.jpg', '11947.jpg', '11959.jpg', '1196.jpg', '11961.jpg', '11990.jpg', '11991.jpg', '11992.jpg', '11993.jpg', '12000.jpg', '1201.jpg', '12010.jpg', '12024.jpg', '12028.jpg', '12042.jpg', '12050.jpg', '12058.jpg', '12060.jpg', '12063.jpg', '12065.jpg', '12067.jpg', '12070.jpg', '12091.jpg', '12134.jpg', '12135.jpg', '12144.jpg', '12160.jpg', '12168.jpg', '12169.jpg', '12171.jpg', '12172.jpg', '12193.jpg', '1220.jpg', '12200.jpg', '1221.jpg', '12221.jpg', '12223.jpg', '12231.jpg', '12232.jpg', '12233.jpg', '12244.jpg', '12263.jpg', '12265.jpg', '12268.jpg', '12273.jpg', '12288.jpg', '12290.jpg', '12295.jpg', '1231.jpg', '12315.jpg', '12330.jpg', '12348.jpg', '12382.jpg', '12391.jpg', '12393.jpg', '12396.jpg', '12400.jpg', '12406.jpg', '12417.jpg', '1242.jpg', '12426.jpg', '12427.jpg', '12432.jpg', '12435.jpg', '1244.jpg', '12451.jpg', '12462.jpg', '1248.jpg', '12489.jpg', '12494.jpg', '125.jpg', '12500.jpg', '12507.jpg', '12512.jpg', '12513.jpg', '12517.jpg', '12533.jpg', '12535.jpg', '12536.jpg', '12540.jpg', '12543.jpg', '12544.jpg', '12551.jpg', '12555.jpg', '12561.jpg', '12578.jpg', '12590.jpg', '12602.jpg', '12615.jpg', '12617.jpg', '12629.jpg', '1263.jpg', '12632.jpg', '12636.jpg', '12649.jpg', '12659.jpg', '12668.jpg', '12669.jpg', '12680.jpg', '12684.jpg', '12685.jpg', '12692.jpg', '12703.jpg', '12716.jpg', '12720.jpg', '12727.jpg', '12729.jpg', '1273.jpg', '12733.jpg', '12734.jpg', '12736.jpg', '12741.jpg', '12744.jpg', '12755.jpg', '12758.jpg', '12761.jpg', '12766.jpg', '12770.jpg', '12782.jpg', '12789.jpg', '1281.jpg', '12817.jpg', '12818.jpg', '12827.jpg', '12863.jpg', '12864.jpg', '12874.jpg', '12887.jpg', '1291.jpg', '12913.jpg', '12930.jpg', '12934.jpg', '12938.jpg', '12942.jpg', '12943.jpg', '12963.jpg', '12973.jpg', '12982.jpg', '12990.jpg', '12996.jpg', '13008.jpg', '13010.jpg', '13023.jpg', '13027.jpg', '1303.jpg', '13050.jpg', '13079.jpg', '1311.jpg', '13111.jpg', '13124.jpg', '13131.jpg', '13135.jpg', '13143.jpg', '1317.jpg', '13170.jpg', '13171.jpg', '13183.jpg', '13184.jpg', '13188.jpg', '13191.jpg', '13213.jpg', '13216.jpg', '13220.jpg', '13222.jpg', '13234.jpg', '13236.jpg', '13238.jpg', '13247.jpg', '1325.jpg', '13253.jpg', '13258.jpg', '13276.jpg', '13284.jpg', '13287.jpg', '13308.jpg', '13315.jpg', '1332.jpg', '1333.jpg', '13338.jpg', '13352.jpg', '13357.jpg', '13364.jpg', '13371.jpg', '13383.jpg', '13400.jpg', '13404.jpg', '13409.jpg', '1343.jpg', '13432.jpg', '13452.jpg', '13453.jpg', '13470.jpg', '13474.jpg', '13477.jpg', '13478.jpg', '13480.jpg', '13486.jpg', '13490.jpg', '13511.jpg', '13526.jpg', '13533.jpg', '13534.jpg', '13537.jpg', '13538.jpg', '13540.jpg', '13568.jpg', '13579.jpg', '13583.jpg', '13590.jpg', '13599.jpg', '13603.jpg', '13609.jpg', '13621.jpg', '13622.jpg', '13624.jpg', '13629.jpg', '1363.jpg', '13649.jpg', '1366.jpg', '13674.jpg', '13676.jpg', '13681.jpg', '13689.jpg', '13697.jpg', '137.jpg', '13735.jpg', '13741.jpg', '13745.jpg', '13746.jpg', '13753.jpg', '13770.jpg', '13777.jpg', '13790.jpg', '13806.jpg', '13812.jpg', '13813.jpg', '13815.jpg', '13822.jpg', '13823.jpg', '13827.jpg', '13835.jpg', '13843.jpg', '13844.jpg', '13846.jpg', '13848.jpg', '13860.jpg', '13863.jpg', '13882.jpg', '13888.jpg', '139.jpg', '13905.jpg', '1391.jpg', '13916.jpg', '13932.jpg', '13943.jpg', '13946.jpg', '13951.jpg', '13961.jpg', '13969.jpg', '13982.jpg', '13983.jpg', '14001.jpg', '14004.jpg', '14014.jpg', '14016.jpg', '14022.jpg', '1403.jpg', '14035.jpg', '1406.jpg', '14081.jpg', '14092.jpg', '14094.jpg', '14114.jpg', '14124.jpg', '1413.jpg', '14148.jpg', '1415.jpg', '14182.jpg', '14184.jpg', '14189.jpg', '14194.jpg', '142.jpg', '14205.jpg', '14212.jpg', '14217.jpg', '14218.jpg', '14231.jpg', '14246.jpg', '14247.jpg', '14261.jpg', '1429.jpg', '14294.jpg', '14295.jpg', '14297.jpg', '14300.jpg', '14318.jpg', '14365.jpg', '14383.jpg', '14389.jpg', '14410.jpg', '14416.jpg', '14439.jpg', '14447.jpg', '1445.jpg', '14454.jpg', '14456.jpg', '14464.jpg', '14467.jpg', '14474.jpg', '14521.jpg', '14535.jpg', '14543.jpg', '14548.jpg', '14565.jpg', '14568.jpg', '14576.jpg', '14577.jpg', '146.jpg', '14649.jpg', '14651.jpg', '14661.jpg', '14662.jpg', '14673.jpg', '14677.jpg', '14681.jpg', '14691.jpg', '14694.jpg', '14704.jpg', '14705.jpg', '14707.jpg', '1471.jpg', '14721.jpg', '14723.jpg', '14731.jpg', '14738.jpg', '14744.jpg', '14749.jpg', '14756.jpg', '14758.jpg', '14760.jpg', '14766.jpg', '14769.jpg', '14799.jpg', '14816.jpg', '1482.jpg', '14820.jpg', '14823.jpg', '14826.jpg', '14830.jpg', '14847.jpg', '14852.jpg', '14854.jpg', '14856.jpg', '14857.jpg', '14868.jpg', '14870.jpg', '14876.jpg', '14883.jpg', '14885.jpg', '14892.jpg', '14894.jpg', '14896.jpg', '14898.jpg', '14903.jpg', '14912.jpg', '14916.jpg', '14918.jpg', '14947.jpg', '14952.jpg', '14958.jpg', '14968.jpg', '14984.jpg', '14991.jpg', '1501.jpg', '15026.jpg', '1503.jpg', '15030.jpg', '15042.jpg', '15045.jpg', '15048.jpg', '15052.jpg', '15061.jpg', '15064.jpg', '15071.jpg', '15078.jpg', '15091.jpg', '15098.jpg', '15109.jpg', '15140.jpg', '15141.jpg', '15146.jpg', '15147.jpg', '15176.jpg', '15216.jpg', '15218.jpg', '15227.jpg', '15236.jpg', '15238.jpg', '15242.jpg', '15261.jpg', '15288.jpg', '15291.jpg', '15293.jpg', '15320.jpg', '15322.jpg', '15331.jpg', '15334.jpg', '15344.jpg', '15345.jpg', '15346.jpg', '15361.jpg', '1539.jpg', '15397.jpg', '15398.jpg', '154.jpg', '15404.jpg', '15405.jpg', '15409.jpg', '1542.jpg', '15428.jpg', '15429.jpg', '15439.jpg', '15451.jpg', '1546.jpg', '15491.jpg', '1550.jpg', '15514.jpg', '15515.jpg', '15518.jpg', '15528.jpg', '15538.jpg', '15542.jpg', '15545.jpg', '15573.jpg', '15587.jpg', '15596.jpg', '1560.jpg', '15624.jpg', '1563.jpg', '15641.jpg', '15653.jpg', '15673.jpg', '15674.jpg', '15675.jpg', '1569.jpg', '15690.jpg', '15693.jpg', '15699.jpg', '157.jpg', '15701.jpg', '15714.jpg', '15729.jpg', '15730.jpg', '15734.jpg', '15743.jpg', '15749.jpg', '15768.jpg', '15784.jpg', '15787.jpg', '15791.jpg', '15792.jpg', '15794.jpg', '15796.jpg', '158.jpg', '1580.jpg', '15815.jpg', '15822.jpg', '15824.jpg', '15827.jpg', '15845.jpg', '15861.jpg', '15864.jpg', '1587.jpg', '15871.jpg', '15877.jpg', '15905.jpg', '15906.jpg', '15920.jpg', '1593.jpg', '15938.jpg', '15944.jpg', '15955.jpg', '15956.jpg', '15959.jpg', '15962.jpg', '15966.jpg', '15973.jpg', '15985.jpg', '15988.jpg', '16006.jpg', '16057.jpg', '16059.jpg', '16064.jpg', '16078.jpg', '16079.jpg', '16095.jpg', '1610.jpg', '16100.jpg', '1611.jpg', '16115.jpg', '16123.jpg', '16137.jpg', '16141.jpg', '16159.jpg', '16160.jpg', '16166.jpg', '16171.jpg', '16183.jpg', '16199.jpg', '16208.jpg', '1622.jpg', '16221.jpg', '1623.jpg', '16234.jpg', '16243.jpg', '16274.jpg', '16279.jpg', '16280.jpg', '16289.jpg', '1629.jpg', '16314.jpg', '16315.jpg', '16324.jpg', '16326.jpg', '16339.jpg', '16346.jpg', '16349.jpg', '1636.jpg', '16362.jpg', '16395.jpg', '16413.jpg', '16423.jpg', '1643.jpg', '16431.jpg', '16432.jpg', '16455.jpg', '16456.jpg', '16457.jpg', '16466.jpg', '1647.jpg', '16478.jpg', '16483.jpg', '16488.jpg', '16500.jpg', '16507.jpg', '16538.jpg', '16547.jpg', '16550.jpg', '16559.jpg', '1656.jpg', '16562.jpg', '16564.jpg', '16567.jpg', '16569.jpg', '16575.jpg', '16577.jpg', '16578.jpg', '16579.jpg', '16593.jpg', '16594.jpg', '16595.jpg', '16607.jpg', '16614.jpg', '16623.jpg', '16624.jpg', '16643.jpg', '16672.jpg', '1668.jpg', '16681.jpg', '16692.jpg', '16730.jpg', '16733.jpg', '16734.jpg', '16750.jpg', '16753.jpg', '16774.jpg', '16793.jpg', '16795.jpg', '16800.jpg', '16807.jpg', '16808.jpg', '1683.jpg', '16837.jpg', '1687.jpg', '16873.jpg', '16888.jpg', '16889.jpg', '16902.jpg', '16911.jpg', '16912.jpg', '1693.jpg', '16933.jpg', '16939.jpg', '16948.jpg', '16952.jpg', '16965.jpg', '16979.jpg', '17000.jpg', '17032.jpg', '17033.jpg', '17055.jpg', '17064.jpg', '17065.jpg', '17073.jpg', '17075.jpg', '17085.jpg', '17094.jpg', '17154.jpg', '17156.jpg', '1716.jpg', '17161.jpg', '17165.jpg', '1718.jpg', '17187.jpg', '17193.jpg', '17198.jpg', '17202.jpg', '17211.jpg', '17225.jpg', '17235.jpg', '17262.jpg', '17264.jpg', '17267.jpg', '17270.jpg', '17273.jpg', '17296.jpg', '17302.jpg', '17308.jpg', '17322.jpg', '17330.jpg', '17332.jpg', '17337.jpg', '17345.jpg', '17354.jpg', '1739.jpg', '17397.jpg', '17401.jpg', '17403.jpg', '17406.jpg', '17416.jpg', '17418.jpg', '17425.jpg', '17427.jpg', '17450.jpg', '17451.jpg', '17452.jpg', '17453.jpg', '17457.jpg', '17462.jpg', '17468.jpg', '17479.jpg', '17480.jpg', '17491.jpg', '17495.jpg', '17503.jpg', '1751.jpg', '17516.jpg', '17520.jpg', '1753.jpg', '17537.jpg', '17539.jpg', '17541.jpg', '17545.jpg', '17551.jpg', '17552.jpg', '17560.jpg', '17563.jpg', '17575.jpg', '17581.jpg', '17590.jpg', '17602.jpg', '17605.jpg', '17609.jpg', '1763.jpg', '17636.jpg', '17662.jpg', '17673.jpg', '17687.jpg', '17719.jpg', '17731.jpg', '17750.jpg', '17751.jpg', '17764.jpg', '17771.jpg', '17793.jpg', '17805.jpg', '17806.jpg', '17821.jpg', '17825.jpg', '17830.jpg', '17853.jpg', '1786.jpg', '17868.jpg', '1787.jpg', '17873.jpg', '17875.jpg', '17891.jpg', '17896.jpg', '17898.jpg', '17906.jpg', '17912.jpg', '17932.jpg', '17953.jpg', '17956.jpg', '17969.jpg', '17973.jpg', '17977.jpg', '17981.jpg', '17983.jpg', '17989.jpg', '18017.jpg', '18025.jpg', '18026.jpg', '18029.jpg', '18034.jpg', '18037.jpg', '18045.jpg', '18050.jpg', '18052.jpg', '18056.jpg', '18072.jpg', '18079.jpg', '18084.jpg', '18087.jpg', '18099.jpg', '18105.jpg', '18115.jpg', '18133.jpg', '18140.jpg', '18151.jpg', '18156.jpg', '18157.jpg', '18166.jpg', '18167.jpg', '18182.jpg', '18195.jpg', '18201.jpg', '18203.jpg', '18234.jpg', '18235.jpg', '18237.jpg', '18240.jpg', '18252.jpg', '18260.jpg', '18272.jpg', '18279.jpg', '18283.jpg', '18289.jpg', '18291.jpg', '18312.jpg', '18321.jpg', '18324.jpg', '18331.jpg', '18335.jpg', '18342.jpg', '18344.jpg', '18375.jpg', '18389.jpg', '18397.jpg', '18412.jpg', '18415.jpg', '18419.jpg', '18435.jpg', '18438.jpg', '18449.jpg', '18456.jpg', '1846.jpg', '18467.jpg', '18496.jpg', '1850.jpg', '18538.jpg', '18542.jpg', '18546.jpg', '18548.jpg', '18550.jpg', '18564.jpg', '18565.jpg', '18580.jpg', '1859.jpg', '18592.jpg', '18593.jpg', '18602.jpg', '18639.jpg', '18655.jpg', '18668.jpg', '1867.jpg', '18672.jpg', '18676.jpg', '18694.jpg', '1872.jpg', '18720.jpg', '18725.jpg', '18743.jpg', '18752.jpg', '18755.jpg', '18756.jpg', '18758.jpg', '18767.jpg', '18769.jpg', '1877.jpg', '18771.jpg', '18772.jpg', '18777.jpg', '1879.jpg', '18791.jpg', '18793.jpg', '18794.jpg', '18797.jpg', '188.jpg', '18814.jpg', '18815.jpg', '18824.jpg', '18846.jpg', '18854.jpg', '18875.jpg', '18881.jpg', '18887.jpg', '18893.jpg', '18902.jpg', '1891.jpg', '18917.jpg', '18919.jpg', '18922.jpg', '18934.jpg', '18938.jpg', '18951.jpg', '18959.jpg', '18962.jpg', '18971.jpg', '18992.jpg', '18993.jpg', '1900.jpg', '19003.jpg', '1901.jpg', '19016.jpg', '19023.jpg', '19036.jpg', '19056.jpg', '19077.jpg', '19078.jpg', '19080.jpg', '19089.jpg', '191.jpg', '19101.jpg', '19104.jpg', '19108.jpg', '19125.jpg', '19126.jpg', '19127.jpg', '19134.jpg', '19150.jpg', '19151.jpg', '19153.jpg', '19159.jpg', '19164.jpg', '19180.jpg', '19217.jpg', '19221.jpg', '19228.jpg', '19245.jpg', '19249.jpg', '19256.jpg', '19260.jpg', '19280.jpg', '19293.jpg', '19325.jpg', '19332.jpg', '19344.jpg', '19347.jpg', '19364.jpg', '19375.jpg', '1940.jpg', '19407.jpg', '19416.jpg', '1943.jpg', '19440.jpg', '19446.jpg', '19447.jpg', '19455.jpg', '19456.jpg', '19460.jpg', '19466.jpg', '19513.jpg', '19526.jpg', '19537.jpg', '1954.jpg', '1955.jpg', '19552.jpg', '19556.jpg', '19571.jpg', '19584.jpg', '1959.jpg', '19595.jpg', '19608.jpg', '19623.jpg', '19624.jpg', '19638.jpg', '1964.jpg', '19649.jpg', '19661.jpg', '19666.jpg', '19668.jpg', '19674.jpg', '19689.jpg', '19701.jpg', '19713.jpg', '19722.jpg', '19728.jpg', '19735.jpg', '1977.jpg', '19776.jpg', '19778.jpg', '19782.jpg', '19789.jpg', '1979.jpg', '19800.jpg', '19802.jpg', '19806.jpg', '19815.jpg', '19816.jpg', '19830.jpg', '19846.jpg', '19848.jpg', '19855.jpg', '19874.jpg', '19895.jpg', '19896.jpg', '19901.jpg', '19910.jpg', '19913.jpg', '19915.jpg', '19923.jpg', '19955.jpg', '19963.jpg', '19969.jpg', '19973.jpg', '19976.jpg', '19978.jpg', '19996.jpg', '20017.jpg', '2002.jpg', '20027.jpg', '20054.jpg', '2041.jpg', '2043.jpg', '2059.jpg', '2069.jpg', '2076.jpg', '2083.jpg', '2088.jpg', '2099.jpg', '2104.jpg', '2108.jpg', '2114.jpg', '2144.jpg', '2158.jpg', '2170.jpg', '2171.jpg', '2176.jpg', '2179.jpg', '218.jpg', '2182.jpg', '2185.jpg', '2193.jpg', '2202.jpg', '2203.jpg', '2204.jpg', '2209.jpg', '2236.jpg', '2238.jpg', '2252.jpg', '2263.jpg', '2264.jpg', '2273.jpg', '230.jpg', '2300.jpg', '2319.jpg', '2332.jpg', '2342.jpg', '235.jpg', '2362.jpg', '2369.jpg', '2385.jpg', '2406.jpg', '2414.jpg', '2418.jpg', '2426.jpg', '2430.jpg', '246.jpg', '2463.jpg', '2469.jpg', '2478.jpg', '2495.jpg', '2558.jpg', '256.jpg', '2568.jpg', '2575.jpg', '2586.jpg', '2587.jpg', '2602.jpg', '2607.jpg', '2612.jpg', '263.jpg', '2633.jpg', '2636.jpg', '2639.jpg', '2643.jpg', '2648.jpg', '265.jpg', '2653.jpg', '266.jpg', '2662.jpg', '2670.jpg', '2678.jpg', '2688.jpg', '2691.jpg', '2697.jpg', '2705.jpg', '2710.jpg', '2713.jpg', '2717.jpg', '2733.jpg', '2735.jpg', '2738.jpg', '2741.jpg', '2743.jpg', '2747.jpg', '2749.jpg', '2770.jpg', '2775.jpg', '2790.jpg', '2802.jpg', '2808.jpg', '2809.jpg', '2815.jpg', '2817.jpg', '2823.jpg', '2827.jpg', '2847.jpg', '2850.jpg', '2874.jpg', '2880.jpg', '2882.jpg', '2887.jpg', '2908.jpg', '292.jpg', '2922.jpg', '2928.jpg', '2936.jpg', '2948.jpg', '2951.jpg', '2954.jpg', '2960.jpg', '2961.jpg', '2985.jpg', '2999.jpg', '3000.jpg', '3017.jpg', '3020.jpg', '3028.jpg', '304.jpg', '3051.jpg', '3056.jpg', '3067.jpg', '3082.jpg', '3086.jpg', '309.jpg', '3091.jpg', '3095.jpg', '3113.jpg', '3126.jpg', '3136.jpg', '3142.jpg', '3145.jpg', '3151.jpg', '3170.jpg', '318.jpg', '3193.jpg', '3207.jpg', '3209.jpg', '321.jpg', '3216.jpg', '3245.jpg', '3253.jpg', '3255.jpg', '3257.jpg', '3263.jpg', '3297.jpg', '3310.jpg', '3316.jpg', '3323.jpg', '3328.jpg', '3336.jpg', '3339.jpg', '3359.jpg', '3364.jpg', '3387.jpg', '3391.jpg', '3395.jpg', '3397.jpg', '3420.jpg', '343.jpg', '3449.jpg', '3457.jpg', '3477.jpg', '3481.jpg', '3488.jpg', '3499.jpg', '3506.jpg', '3523.jpg', '3524.jpg', '3528.jpg', '3540.jpg', '3560.jpg', '3572.jpg', '3579.jpg', '3596.jpg', '3611.jpg', '3638.jpg', '3645.jpg', '3664.jpg', '3667.jpg', '367.jpg', '3670.jpg', '3699.jpg', '3722.jpg', '3743.jpg', '3745.jpg', '3768.jpg', '3775.jpg', '3792.jpg', '3798.jpg', '3809.jpg', '3813.jpg', '3822.jpg', '3825.jpg', '3831.jpg', '3844.jpg', '3856.jpg', '3869.jpg', '3878.jpg', '3888.jpg', '390.jpg', '3905.jpg', '3912.jpg', '3913.jpg', '392.jpg', '3920.jpg', '3921.jpg', '3928.jpg', '3929.jpg', '3956.jpg', '3971.jpg', '3989.jpg', '3991.jpg', '3992.jpg', '3993.jpg', '4.jpg', '4002.jpg', '401.jpg', '4012.jpg', '4016.jpg', '4042.jpg', '4053.jpg', '4057.jpg', '4060.jpg', '4067.jpg', '4075.jpg', '4079.jpg', '4082.jpg', '4098.jpg', '412.jpg', '4129.jpg', '4139.jpg', '4141.jpg', '4152.jpg', '4156.jpg', '4158.jpg', '4160.jpg', '4161.jpg', '4178.jpg', '422.jpg', '4233.jpg', '4239.jpg', '4253.jpg', '4259.jpg', '4267.jpg', '4269.jpg', '4290.jpg', '4294.jpg', '4304.jpg', '4327.jpg', '4332.jpg', '4337.jpg', '4338.jpg', '4341.jpg', '4351.jpg', '4359.jpg', '4392.jpg', '4398.jpg', '440.jpg', '4440.jpg', '4457.jpg', '4458.jpg', '4459.jpg', '4463.jpg', '4466.jpg', '4469.jpg', '4479.jpg', '448.jpg', '4481.jpg', '4486.jpg', '4500.jpg', '4506.jpg', '451.jpg', '4517.jpg', '4520.jpg', '4534.jpg', '4544.jpg', '4551.jpg', '4557.jpg', '4558.jpg', '4560.jpg', '4571.jpg', '4573.jpg', '4589.jpg', '4593.jpg', '4598.jpg', '4600.jpg', '4620.jpg', '4621.jpg', '4623.jpg', '463.jpg', '4630.jpg', '4631.jpg', '4634.jpg', '4667.jpg', '4686.jpg', '47.jpg', '4715.jpg', '4748.jpg', '4770.jpg', '4774.jpg', '4795.jpg', '4796.jpg', '4806.jpg', '4812.jpg', '4818.jpg', '4821.jpg', '4832.jpg', '4860.jpg', '4878.jpg', '488.jpg', '4906.jpg', '4916.jpg', '4932.jpg', '495.jpg', '4959.jpg', '4961.jpg', '4979.jpg', '4988.jpg', '5025.jpg', '5037.jpg', '5048.jpg', '505.jpg', '5053.jpg', '5059.jpg', '506.jpg', '5069.jpg', '5079.jpg', '508.jpg', '5092.jpg', '5111.jpg', '5114.jpg', '5152.jpg', '5160.jpg', '5170.jpg', '5190.jpg', '5193.jpg', '5206.jpg', '526.jpg', '5269.jpg', '5277.jpg', '5285.jpg', '5291.jpg', '5292.jpg', '53.jpg', '5302.jpg', '5313.jpg', '5324.jpg', '5327.jpg', '5331.jpg', '5337.jpg', '5340.jpg', '5343.jpg', '5384.jpg', '5424.jpg', '5444.jpg', '5451.jpg', '5452.jpg', '5463.jpg', '5477.jpg', '55.jpg', '5504.jpg', '5533.jpg', '5535.jpg', '5543.jpg', '5557.jpg', '5563.jpg', '5568.jpg', '5579.jpg', '5583.jpg', '5604.jpg', '5614.jpg', '5630.jpg', '5633.jpg', '5638.jpg', '5656.jpg', '5658.jpg', '5661.jpg', '5695.jpg', '5696.jpg', '5708.jpg', '5712.jpg', '5735.jpg', '5741.jpg', '5743.jpg', '5761.jpg', '5770.jpg', '578.jpg', '5788.jpg', '5791.jpg', '5798.jpg', '5805.jpg', '5817.jpg', '5820.jpg', '5831.jpg', '5852.jpg', '586.jpg', '5866.jpg', '5883.jpg', '5918.jpg', '5919.jpg', '5927.jpg', '5947.jpg', '595.jpg', '5952.jpg', '5955.jpg', '5958.jpg', '5965.jpg', '5971.jpg', '5998.jpg', '6014.jpg', '6024.jpg', '6028.jpg', '6033.jpg', '6037.jpg', '6045.jpg', '6046.jpg', '6054.jpg', '6073.jpg', '6075.jpg', '6080.jpg', '6105.jpg', '6117.jpg', '6119.jpg', '612.jpg', '6123.jpg', '6143.jpg', '617.jpg', '6175.jpg', '618.jpg', '6187.jpg', '6190.jpg', '6201.jpg', '6205.jpg', '6212.jpg', '6213.jpg', '6231.jpg', '6232.jpg', '6233.jpg', '6235.jpg', '6238.jpg', '6259.jpg', '6266.jpg', '6271.jpg', '6280.jpg', '6281.jpg', '6285.jpg', '6305.jpg', '6315.jpg', '6326.jpg', '6328.jpg', '6331.jpg', '6339.jpg', '6340.jpg', '6343.jpg', '6346.jpg', '635.jpg', '6355.jpg', '6360.jpg', '6379.jpg', '6383.jpg', '6394.jpg', '6414.jpg', '6417.jpg', '6420.jpg', '6429.jpg', '6436.jpg', '6473.jpg', '6479.jpg', '6503.jpg', '6509.jpg', '6524.jpg', '6525.jpg', '6526.jpg', '6535.jpg', '6537.jpg', '6585.jpg', '6586.jpg', '6587.jpg', '66.jpg', '6608.jpg', '6629.jpg', '6641.jpg', '6673.jpg', '6684.jpg', '6685.jpg', '6700.jpg', '6702.jpg', '6710.jpg', '6718.jpg', '6720.jpg', '6747.jpg', '6748.jpg', '6755.jpg', '6757.jpg', '6759.jpg', '6763.jpg', '6767.jpg', '6773.jpg', '6780.jpg', '6795.jpg', '6826.jpg', '6871.jpg', '6884.jpg', '6890.jpg', '6891.jpg', '6894.jpg', '6897.jpg', '6898.jpg', '6909.jpg', '6927.jpg', '6935.jpg', '694.jpg', '6954.jpg', '6956.jpg', '6958.jpg', '6959.jpg', '6961.jpg', '6970.jpg', '6983.jpg', '7010.jpg', '7024.jpg', '703.jpg', '7035.jpg', '7054.jpg', '7065.jpg', '7084.jpg', '7091.jpg', '7108.jpg', '7114.jpg', '7118.jpg', '7143.jpg', '7151.jpg', '7168.jpg', '7171.jpg', '7195.jpg', '7202.jpg', '721.jpg', '7214.jpg', '7222.jpg', '7227.jpg', '7228.jpg', '7229.jpg', '7235.jpg', '7237.jpg', '7241.jpg', '7250.jpg', '7253.jpg', '7258.jpg', '726.jpg', '7262.jpg', '7267.jpg', '727.jpg', '7277.jpg', '7282.jpg', '7287.jpg', '7291.jpg', '7292.jpg', '7308.jpg', '7321.jpg', '7325.jpg', '7342.jpg', '7347.jpg', '7357.jpg', '7361.jpg', '7374.jpg', '7379.jpg', '7382.jpg', '739.jpg', '7418.jpg', '742.jpg', '7439.jpg', '7455.jpg', '7463.jpg', '747.jpg', '7471.jpg', '7478.jpg', '749.jpg', '7491.jpg', '7493.jpg', '7496.jpg', '7498.jpg', '7501.jpg', '7509.jpg', '751.jpg', '7518.jpg', '752.jpg', '7520.jpg', '7530.jpg', '7531.jpg', '7541.jpg', '7544.jpg', '7547.jpg', '7553.jpg', '7562.jpg', '7563.jpg', '7570.jpg', '7574.jpg', '7584.jpg', '7600.jpg', '7630.jpg', '7634.jpg', '7636.jpg', '7638.jpg', '765.jpg', '7666.jpg', '7667.jpg', '7701.jpg', '7703.jpg', '7730.jpg', '775.jpg', '7754.jpg', '7755.jpg', '7798.jpg', '7822.jpg', '7846.jpg', '7856.jpg', '7859.jpg', '7860.jpg', '7877.jpg', '789.jpg', '7890.jpg', '7891.jpg', '7924.jpg', '7926.jpg', '7930.jpg', '7937.jpg', '7939.jpg', '7959.jpg', '7994.jpg', '7997.jpg', '801.jpg', '8018.jpg', '8042.jpg', '8054.jpg', '808.jpg', '8081.jpg', '809.jpg', '8093.jpg', '810.jpg', '8100.jpg', '8107.jpg', '8114.jpg', '8121.jpg', '8129.jpg', '8131.jpg', '8132.jpg', '8139.jpg', '8151.jpg', '8159.jpg', '8171.jpg', '8179.jpg', '8202.jpg', '8228.jpg', '8238.jpg', '8241.jpg', '8261.jpg', '8271.jpg', '8292.jpg', '8302.jpg', '8312.jpg', '8324.jpg', '8342.jpg', '835.jpg', '8357.jpg', '8358.jpg', '8360.jpg', '8363.jpg', '8366.jpg', '8367.jpg', '8376.jpg', '8380.jpg', '8382.jpg', '8385.jpg', '8390.jpg', '8397.jpg', '8418.jpg', '8421.jpg', '8430.jpg', '8431.jpg', '8435.jpg', '8458.jpg', '847.jpg', '8474.jpg', '8481.jpg', '8513.jpg', '8518.jpg', '8525.jpg', '8538.jpg', '8542.jpg', '8556.jpg', '8577.jpg', '8592.jpg', '8596.jpg', '8601.jpg', '8602.jpg', '8604.jpg', '8619.jpg', '8622.jpg', '8623.jpg', '8630.jpg', '8639.jpg', '864.jpg', '8647.jpg', '8658.jpg', '8659.jpg', '8682.jpg', '8683.jpg', '869.jpg', '8701.jpg', '8705.jpg', '8713.jpg', '8723.jpg', '8748.jpg', '8752.jpg', '8777.jpg', '878.jpg', '8786.jpg', '8788.jpg', '8792.jpg', '8797.jpg', '8801.jpg', '8810.jpg', '8813.jpg', '8821.jpg', '8822.jpg', '8830.jpg', '8838.jpg', '8843.jpg', '8859.jpg', '8878.jpg', '8891.jpg', '8896.jpg', '8897.jpg', '8903.jpg', '8912.jpg', '8915.jpg', '8921.jpg', '8923.jpg', '8933.jpg', '8948.jpg', '8964.jpg', '8966.jpg', '8976.jpg', '8985.jpg', '9002.jpg', '9007.jpg', '9018.jpg', '9019.jpg', '9032.jpg', '904.jpg', '9042.jpg', '9059.jpg', '906.jpg', '909.jpg', '9095.jpg', '9112.jpg', '9117.jpg', '9127.jpg', '9135.jpg', '9151.jpg', '9157.jpg', '9173.jpg', '9189.jpg', '9191.jpg', '9196.jpg', '92.jpg', '9202.jpg', '9217.jpg', '9231.jpg', '9241.jpg', '9243.jpg', '9281.jpg', '9283.jpg', '9297.jpg', '9329.jpg', '9332.jpg', '9345.jpg', '9353.jpg', '9355.jpg', '9364.jpg', '9400.jpg', '9404.jpg', '9410.jpg', '9432.jpg', '9446.jpg', '9458.jpg', '9487.jpg', '9498.jpg', '9501.jpg', '9517.jpg', '9520.jpg', '9526.jpg', '9527.jpg', '9537.jpg', '9540.jpg', '9570.jpg', '9578.jpg', '960.jpg', '9622.jpg', '9627.jpg', '963.jpg', '9631.jpg', '9637.jpg', '9656.jpg', '967.jpg', '9673.jpg', '968.jpg', '9680.jpg', '9684.jpg', '9699.jpg', '9725.jpg', '9736.jpg', '9737.jpg', '9750.jpg', '9757.jpg', '9762.jpg', '9764.jpg', '9767.jpg', '9768.jpg', '9769.jpg', '9785.jpg', '9807.jpg', '9810.jpg', '9811.jpg', '9819.jpg', '9821.jpg', '9862.jpg', '9899.jpg', '990.jpg', '9905.jpg', '991.jpg', '9913.jpg', '9918.jpg', '9921.jpg', '9922.jpg', '9925.jpg', '9929.jpg', '993.jpg', '9932.jpg', '9938.jpg', '9942.jpg', '9946.jpg', '9948.jpg', '9962.jpg', '9966.jpg', '9977.jpg']\n"
     ]
    }
   ],
   "source": [
    "for (root, dirs, files) in os.walk(MajorityImage_Dir):\n",
    "    print(root)\n",
    "    print(files)"
   ]
  },
  {
   "cell_type": "code",
   "execution_count": 11,
   "metadata": {},
   "outputs": [
    {
     "data": {
      "text/plain": [
       "'buildings'"
      ]
     },
     "execution_count": 11,
     "metadata": {},
     "output_type": "execute_result"
    }
   ],
   "source": [
    "root[-9:]"
   ]
  },
  {
   "cell_type": "code",
   "execution_count": null,
   "metadata": {},
   "outputs": [],
   "source": []
  }
 ],
 "metadata": {
  "interpreter": {
   "hash": "9a3212ed8c4241811ef1a787ba76ea01199c5c451f4133a743ca3e39cbaf5974"
  },
  "kernelspec": {
   "display_name": "Python 3.9.4 64-bit ('augmentation': conda)",
   "language": "python",
   "name": "python3"
  },
  "language_info": {
   "codemirror_mode": {
    "name": "ipython",
    "version": 3
   },
   "file_extension": ".py",
   "mimetype": "text/x-python",
   "name": "python",
   "nbconvert_exporter": "python",
   "pygments_lexer": "ipython3",
   "version": "3.9.4"
  },
  "orig_nbformat": 4
 },
 "nbformat": 4,
 "nbformat_minor": 2
}
