{
 "cells": [
  {
   "cell_type": "code",
   "execution_count": 1,
   "metadata": {},
   "outputs": [],
   "source": [
    "import os\n",
    "import pprint as pp\n",
    "import numpy as np\n",
    "import cv2\n",
    "import IPython\n",
    "import os\n",
    "import json\n",
    "import random\n",
    "import PIL\n",
    "import urllib\n",
    "from PIL import Image\n",
    "from torchvision import transforms\n",
    "from PIL import Image as PILImage\n",
    "from PIL import ImageDraw as PILImageDraw\n",
    "import tensorflow as tf\n",
    "from typing import List, Optional, Sequence, Tuple, Union\n",
    "import requests\n",
    "from io import BytesIO\n",
    "import math\n",
    "from typing import Any, Callable,Dict, List, Optional, Sequence, Tuple, Union\n",
    "import glob\n",
    "import matplotlib.pyplot as plt\n",
    "import shutil \n",
    "import os \n",
    "import base64\n",
    "import torch\n",
    "import albumentations as A\n",
    "from functools import wraps"
   ]
  },
  {
   "cell_type": "code",
   "execution_count": null,
   "metadata": {},
   "outputs": [],
   "source": [
    "class BalancedDatasetCreator():\n",
    "    def __init__(self, labels_path, image_dir,nA=None, nB=None):\n",
    "        self.labels_path = labels_path\n",
    "        self.image_dir = image_dir\n",
    "        self.nA=nA\n",
    "        self.nB=nB\n",
    "\n",
    "        json_file = open(self.labels_path)\n",
    "        self.labelJSON = json.load(json_file)\n",
    "        json_file.close()\n",
    "\n",
    "        self.lst2dict4cls\n",
    "\n",
    "    def lst2dict4cls(self,unbalanced_label_classA,unbalanced_label_classB):\n",
    "        \n",
    "        final_unbalancedLabelsDict=dict()\n",
    "        for itemA in unbalanced_label_classA:\n",
    "            final_unbalancedLabelsDict[itemA]=1\n",
    "        for itemB in unbalanced_label_classB:\n",
    "            final_unbalancedLabelsDict[itemB]=2\n",
    "        return final_unbalancedLabelsDict             \n",
    "       \n",
    "\n",
    "    def balancercls(self):\n",
    "        unbalanced_label_classB=[]\n",
    "        unbalanced_label_classA=[]\n",
    "        final_unbalancedLabelsDict=dict()\n",
    "\n",
    "        for key, value in self.labelJSON.items():\n",
    "            if value ==2:\n",
    "                unbalanced_label_classB.append(key)\n",
    "            else:\n",
    "                unbalanced_label_classA.append(key)\n",
    "\n",
    "        finalUnbalancedClassA=random.sample(unbalanced_label_classA, self.nA)\n",
    "        random.seed(60)\n",
    "\n",
    "        final_unbalancedLabelsDict=self.lst2dict4cls(finalUnbalancedClassA,unbalanced_label_classB)\n",
    "        return final_unbalancedLabelsDict\n",
    "\n",
    "\n",
    "\n"
   ]
  }
 ],
 "metadata": {
  "interpreter": {
   "hash": "9a3212ed8c4241811ef1a787ba76ea01199c5c451f4133a743ca3e39cbaf5974"
  },
  "kernelspec": {
   "display_name": "Python 3.9.4 64-bit ('augmentation': conda)",
   "language": "python",
   "name": "python3"
  },
  "language_info": {
   "codemirror_mode": {
    "name": "ipython",
    "version": 3
   },
   "file_extension": ".py",
   "mimetype": "text/x-python",
   "name": "python",
   "nbconvert_exporter": "python",
   "pygments_lexer": "ipython3",
   "version": "3.9.4"
  },
  "orig_nbformat": 4
 },
 "nbformat": 4,
 "nbformat_minor": 2
}
